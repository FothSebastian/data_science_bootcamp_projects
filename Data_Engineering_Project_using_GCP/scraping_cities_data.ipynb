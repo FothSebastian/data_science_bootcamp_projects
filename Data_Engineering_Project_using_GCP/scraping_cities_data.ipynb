{
  "nbformat": 4,
  "nbformat_minor": 0,
  "metadata": {
    "colab": {
      "provenance": []
    },
    "kernelspec": {
      "name": "python3",
      "display_name": "Python 3"
    },
    "language_info": {
      "name": "python"
    }
  },
  "cells": [
    {
      "cell_type": "markdown",
      "source": [
        "Extracting information from Wikipedia City pages"
      ],
      "metadata": {
        "id": "0jlA-Kav39g9"
      }
    },
    {
      "cell_type": "code",
      "execution_count": null,
      "metadata": {
        "id": "FDlT5R823afy"
      },
      "outputs": [],
      "source": [
        "import pandas as pd\n",
        "import requests\n",
        "from bs4 import BeautifulSoup\n",
        "import re\n",
        "import sqlalchemy\n",
        "\n",
        "def extract_city_info(city: str):\n",
        "    \"\"\"\n",
        "    Extracts information about a city from Wikipedia. This includes the city's\n",
        "    country, population, latitude, and longitude.\n",
        "\n",
        "    :param city: Name of the city (string)\n",
        "    :return: Dictionary containing city information\n",
        "    \"\"\"\n",
        "    city_data = {}\n",
        "    url = f\"https://www.wikipedia.org/wiki/{city}\"\n",
        "    response = requests.get(url)\n",
        "    city_soup = BeautifulSoup(response.content, 'html.parser')\n",
        "\n",
        "    city_data[\"City\"] = city\n",
        "    city_data[\"Country\"] = city_soup.find(class_=\"infobox-data\").get_text()\n",
        "\n",
        "    city_population = city_soup.find(string=re.compile(\"Population\")).find_next(\"td\").get_text()\n",
        "    city_population_clean = int(city_population.replace(\",\", \"\"))\n",
        "    city_data[\"Population\"] = city_population_clean\n",
        "\n",
        "    city_data[\"Latitude\"] = city_soup.find(class_=\"latitude\").get_text()\n",
        "    city_data[\"Longitude\"] = city_soup.find(class_=\"longitude\").get_text()\n",
        "\n",
        "    return city_data\n",
        "\n",
        "def transform_coordinates(lat_str, lon_str):\n",
        "    \"\"\"\n",
        "    Transforms latitude and longitude from string format (degrees, minutes, seconds)\n",
        "    to decimal format.\n",
        "\n",
        "    :param lat_str: Latitude in string format (degrees, minutes, seconds)\n",
        "    :param lon_str: Longitude in string format (degrees, minutes, seconds)\n",
        "    :return: Tuple containing latitude and longitude in decimal format\n",
        "    \"\"\"\n",
        "    def dms_to_decimal(dms_str):\n",
        "        # Regular expression for degree-minute-second format\n",
        "        dms_match = re.match(r\"(\\d+)°(\\d+)′(\\d+)″([NSEW])\", dms_str)\n",
        "        if dms_match:\n",
        "            d, m, s, direction = dms_match.groups()\n",
        "            decimal = float(d) + float(m)/60 + float(s)/3600\n",
        "\n",
        "        # Regular expression for simple degree format\n",
        "        else:\n",
        "            degree_match = re.match(r\"(\\d+)°(\\d+)′([NSEW])\", dms_str)\n",
        "            if degree_match:\n",
        "                d, m, direction = degree_match.groups()\n",
        "                decimal = float(d) + float(m)/60\n",
        "            else:\n",
        "                print(f\"Could not parse the coordinate string: {dms_str}\")\n",
        "                return None\n",
        "\n",
        "        if direction in ['S', 'W']:\n",
        "            decimal = -decimal\n",
        "\n",
        "        return decimal\n",
        "\n",
        "    return dms_to_decimal(lat_str), dms_to_decimal(lon_str)\n",
        "\n",
        "def process_cities(cities):\n",
        "    \"\"\"\n",
        "    Processes a list of cities by extracting their information from Wikipedia,\n",
        "    transforming their coordinates, and compiling everything into a DataFrame.\n",
        "\n",
        "    :param cities: List of city names (list of strings)\n",
        "    :return: DataFrame containing processed city information\n",
        "    \"\"\"\n",
        "    processed_data = []\n",
        "\n",
        "    for city in cities:\n",
        "        city_info = extract_city_info(city)\n",
        "        lat_decimal, lon_decimal = transform_coordinates(city_info[\"Latitude\"], city_info[\"Longitude\"])\n",
        "        city_info[\"Latitude\"] = lat_decimal\n",
        "        city_info[\"Longitude\"] = lon_decimal\n",
        "        processed_data.append(city_info)\n",
        "\n",
        "    return pd.DataFrame(processed_data)\n",
        "\n",
        "def send_to_sql(df, connection_string, table_name):\n",
        "    \"\"\"\n",
        "    Sends a DataFrame to a SQL database.\n",
        "    :param df: DataFrame to be sent to the SQL database\n",
        "    :param connection_string: SQL database connection string\n",
        "    :param table_name: Name of the table where the data will be inserted\n",
        "    \"\"\"\n",
        "    engine = sqlalchemy.create_engine(connection_string)\n",
        "    df.to_sql(\n",
        "        table_name,\n",
        "        engine,\n",
        "        if_exists='append',\n",
        "        index=False)\n",
        "\n",
        "\n",
        "# Example Usage:\n",
        "cities = [\"Berlin\", \"Munich\",\"Hamburg\"] # Replace with your list of cities\n",
        "cities_df = process_cities(cities)\n",
        "print(cities_df)"
      ]
    },
    {
      "cell_type": "markdown",
      "source": [
        "Before you can store the extracted city information you will have to create your local database with the corresponding table in order to obtain the data. I am using MySQLWorkbench and I have created the database and its table the following way:\n",
        "\n",
        "\n",
        "```\n",
        "CREATE DATABASE gans;\n",
        "\n",
        "USE gans;\n",
        "\n",
        "CREATE TABLE cities (\n",
        "    city_id INT AUTO_INCREMENT PRIMARY KEY,\n",
        "    city VARCHAR(255) NOT NULL,\n",
        "    country VARCHAR(255),\n",
        "    population INT,\n",
        "    latitude DECIMAL(10, 7),  -- Decimal format to store latitude\n",
        "    longitude DECIMAL(10, 7)  -- Decimal format to store longitude\n",
        ");\n",
        "```\n",
        "\n"
      ],
      "metadata": {
        "id": "okkHqFHI6OqI"
      }
    },
    {
      "cell_type": "markdown",
      "source": [
        "Afterwards you are ready to send the extracted information as a dataframe to your database at MySQL."
      ],
      "metadata": {
        "id": "wKrLkj934hb6"
      }
    },
    {
      "cell_type": "code",
      "source": [
        "# Replace the following values with your specific details\n",
        "username = 'root'            # Your MySQL username\n",
        "password = 'password'        # Your MySQL password\n",
        "host = '127.0.0.1'           # The host where your database is running (e.g., localhost or an IP address)\n",
        "port = '3306'                # The port number for the database. MySQL typically uses 3306\n",
        "database = 'gans'            # The specific database name to connect to\n",
        "\n",
        "# Connection string\n",
        "connection_string = f\"mysql+pymysql://{username}:{password}@{host}:{port}/{database}\"\n",
        "\n",
        "# Function call\n",
        "send_to_sql(cities_df, connection_string, \"cities\")"
      ],
      "metadata": {
        "id": "ql9kX_wh4dY0"
      },
      "execution_count": null,
      "outputs": []
    }
  ]
}