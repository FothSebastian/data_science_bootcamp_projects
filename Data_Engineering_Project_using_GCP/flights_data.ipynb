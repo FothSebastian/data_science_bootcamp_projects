{
  "nbformat": 4,
  "nbformat_minor": 0,
  "metadata": {
    "colab": {
      "provenance": []
    },
    "kernelspec": {
      "name": "python3",
      "display_name": "Python 3"
    },
    "language_info": {
      "name": "python"
    }
  },
  "cells": [
    {
      "cell_type": "markdown",
      "source": [
        "Before you can store the acquired flights landing data you will have to create the corresponding table in order to obtain the data. I am using MySQLWorkbench and I have created the table the following way:\n",
        "\n",
        "\n",
        "```\n",
        "CREATE TABLE flights (\n",
        "    flight_id INT AUTO_INCREMENT PRIMARY KEY,\n",
        "    arrival_airport_icao VARCHAR(4),\n",
        "    departure_airport_icao VARCHAR(4),\n",
        "    scheduled_arrival_time DATETIME,\n",
        "    flight_number VARCHAR(30),\n",
        "    data_retrieved_at DATETIME,\n",
        "    FOREIGN KEY (arrival_airport_icao) REFERENCES airports(icao_code)\n",
        ");\n",
        "```\n",
        "\n"
      ],
      "metadata": {
        "id": "G7qGhaok2hUR"
      }
    },
    {
      "cell_type": "code",
      "execution_count": null,
      "metadata": {
        "id": "rxDTAmBe2d4O"
      },
      "outputs": [],
      "source": [
        "import pandas as pd\n",
        "from datetime import datetime, timedelta\n",
        "import requests\n",
        "from pytz import timezone\n",
        "from sqlalchemy import create_engine\n",
        "\n",
        "def retrieve_and_store_flight_data(icao_list, db_username, db_password, db_host, db_port, db_name):\n",
        "    # Set API Key and Berlin timezone\n",
        "    api_key = \"YOUR_API_KEY\"\n",
        "    berlin_timezone = timezone('Europe/Berlin')\n",
        "\n",
        "    # Calculate today and tomorrow dates\n",
        "    today = datetime.now(berlin_timezone).date()\n",
        "    tomorrow = today + timedelta(days=1)\n",
        "\n",
        "    flight_items = []\n",
        "\n",
        "    # Function to fetch flight data\n",
        "    def get_flight_data(icao):\n",
        "        times = [[\"00:00\", \"11:59\"], [\"12:00\", \"23:59\"]]\n",
        "        for time in times:\n",
        "            url = f\"https://aerodatabox.p.rapidapi.com/flights/airports/icao/{icao}/{tomorrow}T{time[0]}/{tomorrow}T{time[1]}\"\n",
        "            querystring = {\n",
        "                \"withLeg\": \"true\",\n",
        "                \"direction\": \"Arrival\",\n",
        "                \"withCancelled\": \"false\",\n",
        "                \"withCodeshared\": \"true\",\n",
        "                \"withCargo\": \"false\",\n",
        "                \"withPrivate\": \"false\"\n",
        "            }\n",
        "            headers = {\n",
        "                'x-rapidapi-host': \"aerodatabox.p.rapidapi.com\",\n",
        "                'x-rapidapi-key': api_key\n",
        "            }\n",
        "            response = requests.get(url, headers=headers, params=querystring)\n",
        "            flights_json = response.json()\n",
        "            retrieval_time = datetime.now(berlin_timezone).strftime(\"%Y-%m-%d %H:%M:%S\")\n",
        "\n",
        "            for item in flights_json[\"arrivals\"]:\n",
        "                flight_item = {\n",
        "                    \"arrival_airport_icao\": icao,\n",
        "                    \"departure_airport_icao\": item[\"departure\"][\"airport\"].get(\"icao\", None),\n",
        "                    \"scheduled_arrival_time\": item[\"arrival\"][\"scheduledTime\"].get(\"local\", None),\n",
        "                    \"flight_number\": item.get(\"number\", None),\n",
        "                    \"data_retrieved_at\": retrieval_time\n",
        "                }\n",
        "                flight_items.append(flight_item)\n",
        "\n",
        "    # Fetch data for all ICAOs\n",
        "    for icao in icao_list:\n",
        "        get_flight_data(icao)\n",
        "\n",
        "    # Create DataFrame and process time columns\n",
        "    flights_df = pd.DataFrame(flight_items)\n",
        "    flights_df[\"scheduled_arrival_time\"] = flights_df[\"scheduled_arrival_time\"].str[:-6]\n",
        "    flights_df[\"scheduled_arrival_time\"] = pd.to_datetime(flights_df[\"scheduled_arrival_time\"])\n",
        "    flights_df[\"data_retrieved_at\"] = pd.to_datetime(flights_df[\"data_retrieved_at\"])\n",
        "\n",
        "    # Create a connection to the database and store the data\n",
        "    engine = create_engine(f'mysql+mysqlconnector://{db_username}:{db_password}@{db_host}:{db_port}/{db_name}')\n",
        "    flights_df.to_sql('flights', con=engine, if_exists='append', index=False)\n",
        "\n",
        "    return flights_df\n",
        "\n",
        "# Example usage\n",
        "icao_list = [\"EDDB\", \"EDDM\", \"EDDH\"]    #EDDB = Airport Berlin, EDDM = Airport Munich, EDDH = Airport Hamburg\n",
        "db_username = 'root'\n",
        "db_password = 'YOUR_PASSWORD'\n",
        "db_host = '127.0.0.1'\n",
        "db_port = '3306'\n",
        "db_name = 'gans'\n",
        "\n",
        "flights_df = retrieve_and_store_flight_data(icao_list, db_username, db_password, db_host, db_port, db_name)"
      ]
    },
    {
      "cell_type": "markdown",
      "source": [
        "To maximize the potential of your data repository, it's necessary to interrelate all tables. Therefore, you should create an additional table named 'airports' to connect the 'cities' table with the 'flights' table:\n",
        "\n",
        "\n",
        "```\n",
        "CREATE TABLE airports (\n",
        "    icao_code VARCHAR(4) PRIMARY KEY,\n",
        "    airport_name VARCHAR(255),\n",
        "    city_id INT,\n",
        "    FOREIGN KEY (city_id) REFERENCES cities(city_id)\n",
        ");\n",
        "```\n",
        "\n"
      ],
      "metadata": {
        "id": "6h8o5L8L4hW_"
      }
    }
  ]
}